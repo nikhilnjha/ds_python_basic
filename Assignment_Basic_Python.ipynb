{
  "nbformat": 4,
  "nbformat_minor": 0,
  "metadata": {
    "colab": {
      "provenance": [],
      "collapsed_sections": [
        "oAybTO8X5GVs"
      ]
    },
    "kernelspec": {
      "name": "python3",
      "display_name": "Python 3"
    },
    "language_info": {
      "name": "python"
    }
  },
  "cells": [
    {
      "cell_type": "markdown",
      "source": [
        "# Assignment: Python Basics"
      ],
      "metadata": {
        "id": "VGIvvEbS8hzO"
      }
    },
    {
      "cell_type": "markdown",
      "source": [
        "## Theory"
      ],
      "metadata": {
        "id": "oAybTO8X5GVs"
      }
    },
    {
      "cell_type": "markdown",
      "source": [
        "1. What is Python, and why is it popular.\n",
        "\n",
        "Ans: It is a computer programming langiage that is easy to use and understand. Python syntax is straightforward and similar to english.\n",
        "\n",
        "Reasons for popularity:\n",
        "1. Easy to use\n",
        "2. Versatile\n",
        "3. Big Community of coders\n",
        "4. Large availalbility of libraries."
      ],
      "metadata": {
        "id": "I-jOQnJZV8m8"
      }
    },
    {
      "cell_type": "markdown",
      "source": [
        "2. What is an interpreter in Python\n",
        "\n",
        "Ans: In Python, codes are executed line by line. These lines are called statements. It acts as a translator between source code and machine code."
      ],
      "metadata": {
        "id": "bw5DvENwZLmd"
      }
    },
    {
      "cell_type": "markdown",
      "source": [
        "3. What are pre-defined keywords in Python\n",
        "\n",
        "Ans: pre-defined keywords are reserved words that are used in writing a code. These keywords help in writing a strcutured code. Examples of keywords are import, print, if, else/"
      ],
      "metadata": {
        "id": "MtImSMIGZN8O"
      }
    },
    {
      "cell_type": "markdown",
      "source": [
        "4. Can keywords be used as variable names\n",
        "\n",
        "Ans: Keywords cannot be used as variable names. When used as a variable name, it would either raise an error or start to use the keyword as a variable thereby leading to an error while executing the code."
      ],
      "metadata": {
        "id": "jigd6JpdaZQh"
      }
    },
    {
      "cell_type": "markdown",
      "source": [
        "5. What is mutability in Python\n",
        "\n",
        "Ans: Mutability is the property of an object. If an object can be assigned a value after it is created, then the object is mutable. Example: List."
      ],
      "metadata": {
        "id": "ehHwpen1a0fN"
      }
    },
    {
      "cell_type": "markdown",
      "source": [
        "6. Why are lists mutable, but tuples are immutable\n",
        "\n",
        "Ans: Lists are a collection of items. To make it flexible, list are mutable. This allows for adding, removing, replacing of items within a List.\n",
        "\n",
        "While Tuples are used to store items which must not be allowed to be modified. Examples include usernames, emails. This property allows the Tuples to maintain data integrity."
      ],
      "metadata": {
        "id": "RGXu_xKybN4i"
      }
    },
    {
      "cell_type": "markdown",
      "source": [
        "7. What is the difference between “==” and “is” operators in Python.\n",
        "\n",
        "Ans: \"==\" is used to compare values while \"is\" is used to compare if the values exists within a variable."
      ],
      "metadata": {
        "id": "gUJONHJ7cd6R"
      }
    },
    {
      "cell_type": "markdown",
      "source": [
        "8. What are logical operators in Python\n",
        "\n",
        "Ans: Logical operators in python are used to combine or modify boolean expressions. It allows for conditional statements and control statement based on single or multiple criteria."
      ],
      "metadata": {
        "id": "YRnYGxS0cdvT"
      }
    },
    {
      "cell_type": "markdown",
      "source": [
        "9. What is type casting in Python\n",
        "\n",
        "Ans: Type casting allows for conversion of one type to another. Example \"5\", a str type value, can be converted into 5, a int type value,  by use of int type casting."
      ],
      "metadata": {
        "id": "DaCtsqa4cdl8"
      }
    },
    {
      "cell_type": "markdown",
      "source": [
        "10. What is the difference between implicit and explicit type casting.\n",
        "\n",
        "Ans: Implicit type casting happens when python interpreter automatically identifies and converts the value in appropriate type cast without the need of the user to define the type. Example: 1 + 2.5 will lead to float type. Explicit type casting happens when user uses a built-in function to convert a value from 1 type to another. Example a = \"123\" b = int(a). Here a variable is explicitly converted into int type and then assigned to a variable b."
      ],
      "metadata": {
        "id": "ITFu1Yav14II"
      }
    },
    {
      "cell_type": "markdown",
      "source": [
        "11. What is the purpose of conditional statements in Python.\n",
        "\n",
        "Ans: Conditional Statments control the flow of execution of the code. These help in executing certain clode blocks when a criteria is met (or not met)."
      ],
      "metadata": {
        "id": "onZGNrkg14FV"
      }
    },
    {
      "cell_type": "markdown",
      "source": [
        "12. How does the elif statement work.\n",
        "\n",
        "Ans: In case of multiple conditional statement, an if-else statement will lead to checking of all conditions even if the first (or nth) condition is True. Here elif helps in reducing the number of checks, since the loop is closed once 1st (or nth) condition is met. other conditions will not be validated."
      ],
      "metadata": {
        "id": "k3gVSLjq14CD"
      }
    },
    {
      "cell_type": "markdown",
      "source": [
        "13. What is the difference between for and while loops\n",
        "\n",
        "Ans: For loops are mainly used for the scenario's where number of iterations are known. Also in for loop, increment is controlled automatically. While loops are used when number of iterations are unknown but an exit criteria is known. Increments need to be manully controlled."
      ],
      "metadata": {
        "id": "Yc7FUm-s13-g"
      }
    },
    {
      "cell_type": "markdown",
      "source": [
        "14. Describe a scenario where a while loop is more suitable than a for loop.\n",
        "\n",
        "Ans: In scenario's where number of iterations are unknown but exit condition is known, While loop is used. Example: Ask the user to enter correct email until email matches with the registered email."
      ],
      "metadata": {
        "id": "XjTukgBq137F"
      }
    },
    {
      "cell_type": "markdown",
      "source": [
        "## Practical"
      ],
      "metadata": {
        "id": "IcxVskH65DUf"
      }
    },
    {
      "cell_type": "markdown",
      "source": [
        "##  1. Write a Python program to print \"Hello, World!\""
      ],
      "metadata": {
        "id": "1vCqT1vFr75Y"
      }
    },
    {
      "cell_type": "code",
      "source": [
        "s = \"Hello, World!\"\n",
        "print(s)"
      ],
      "metadata": {
        "id": "eD1aCPA8ZDq2",
        "colab": {
          "base_uri": "https://localhost:8080/"
        },
        "outputId": "c1405f1e-9603-4fc6-873f-da7c860890f4"
      },
      "execution_count": 1,
      "outputs": [
        {
          "output_type": "stream",
          "name": "stdout",
          "text": [
            "Hello, World!\n"
          ]
        }
      ]
    },
    {
      "cell_type": "markdown",
      "source": [
        "## 2. Write a Python program that displays your name and age."
      ],
      "metadata": {
        "id": "ixIEE8A9sF-M"
      }
    },
    {
      "cell_type": "code",
      "source": [
        "name = 'Nikhil Jha'\n",
        "age = 40\n",
        "\n",
        "print(f'My name is {name} and my age is {age}.')"
      ],
      "metadata": {
        "colab": {
          "base_uri": "https://localhost:8080/"
        },
        "id": "1ylDGE1esCZ7",
        "outputId": "1cdd764d-036d-45c4-c9a5-08e9cdeca3eb"
      },
      "execution_count": 2,
      "outputs": [
        {
          "output_type": "stream",
          "name": "stdout",
          "text": [
            "My name is Nikhil Jha and my age is 40.\n"
          ]
        }
      ]
    },
    {
      "cell_type": "markdown",
      "source": [
        "## 3. Write code to print all the pre-defined keywords in Python using the keyword library."
      ],
      "metadata": {
        "id": "pprKrAMKsdVm"
      }
    },
    {
      "cell_type": "code",
      "source": [
        "import keyword\n",
        "\n",
        "print(keyword.kwlist)"
      ],
      "metadata": {
        "colab": {
          "base_uri": "https://localhost:8080/"
        },
        "id": "apN1J5zdsni_",
        "outputId": "06e828d6-70a8-46df-f0c6-395b5b7db8b9"
      },
      "execution_count": 6,
      "outputs": [
        {
          "output_type": "stream",
          "name": "stdout",
          "text": [
            "['False', 'None', 'True', 'and', 'as', 'assert', 'async', 'await', 'break', 'class', 'continue', 'def', 'del', 'elif', 'else', 'except', 'finally', 'for', 'from', 'global', 'if', 'import', 'in', 'is', 'lambda', 'nonlocal', 'not', 'or', 'pass', 'raise', 'return', 'try', 'while', 'with', 'yield']\n"
          ]
        }
      ]
    },
    {
      "cell_type": "markdown",
      "source": [
        "## 4. Write a program that checks if a given word is a Python keyword."
      ],
      "metadata": {
        "id": "TNZzUy9RsyIE"
      }
    },
    {
      "cell_type": "code",
      "source": [
        "import keyword\n",
        "\n",
        "w = input('Enter a python keyword: ')\n",
        "\n",
        "if w in keyword.kwlist:\n",
        "  print (f'{w} is a keyword.')\n",
        "else: print(f'{w} is not a Python keyword.')"
      ],
      "metadata": {
        "colab": {
          "base_uri": "https://localhost:8080/"
        },
        "id": "Ix0apdwKstKh",
        "outputId": "984fb1f6-fa47-4ffb-fa56-fa51fef178a1"
      },
      "execution_count": 11,
      "outputs": [
        {
          "output_type": "stream",
          "name": "stdout",
          "text": [
            "Enter a python keyword: if\n",
            "if is a keyword.\n"
          ]
        }
      ]
    },
    {
      "cell_type": "markdown",
      "source": [
        "## 5. Write a function to demonstrate the behavior of mutable and immutable arguments."
      ],
      "metadata": {
        "id": "rkiQ5iudthR1"
      }
    },
    {
      "cell_type": "code",
      "source": [
        "def demo_args(immutable_var,mutable_var):\n",
        "  immutable_var = {4, 5, 6}\n",
        "  mutable_var[0] = ([1,2,\"Nikhil\"])\n",
        "\n",
        "imm = {1, 2, 3}\n",
        "mm = [4, 5, 6]\n",
        "\n",
        "print(f\"Before: mutable = {mm} and immutable = {imm}\")\n",
        "demo_args(imm,mm)\n",
        "print(f\"After: mutable = {mm} and immutable = {imm}\")"
      ],
      "metadata": {
        "colab": {
          "base_uri": "https://localhost:8080/"
        },
        "id": "CkgA5DwHtPy6",
        "outputId": "9fbd4589-d05d-4568-b505-7e76e8050f64"
      },
      "execution_count": 20,
      "outputs": [
        {
          "output_type": "stream",
          "name": "stdout",
          "text": [
            "Before: mutable = [4, 5, 6] and immutable = {1, 2, 3}\n",
            "After: mutable = [[1, 2, 'Nikhil'], 5, 6] and immutable = {1, 2, 3}\n"
          ]
        }
      ]
    },
    {
      "cell_type": "markdown",
      "source": [
        "## 6. Write a program that performs basic arithmetic operations on two user-input numbers."
      ],
      "metadata": {
        "id": "I_InI8_GwNuG"
      }
    },
    {
      "cell_type": "code",
      "source": [
        "def sum(a,b):\n",
        "  c = a + b\n",
        "  return c\n",
        "\n",
        "a = float(input(\"Provide an integer: \"))\n",
        "b = float(input(\"Provide another integer: \"))\n",
        "\n",
        "sum(a,b)"
      ],
      "metadata": {
        "colab": {
          "base_uri": "https://localhost:8080/"
        },
        "id": "Y0Md7OTUuiR8",
        "outputId": "7123dded-c73c-4508-91a2-61a30444435f"
      },
      "execution_count": 28,
      "outputs": [
        {
          "name": "stdout",
          "output_type": "stream",
          "text": [
            "Provide an integer: 1\n",
            "Provide another integer: 1\n"
          ]
        },
        {
          "output_type": "execute_result",
          "data": {
            "text/plain": [
              "2.0"
            ]
          },
          "metadata": {},
          "execution_count": 28
        }
      ]
    },
    {
      "cell_type": "markdown",
      "source": [
        "## 7. Write a program to demonstrate the use of logical operators."
      ],
      "metadata": {
        "id": "Xb2g6afCxSb4"
      }
    },
    {
      "cell_type": "code",
      "source": [
        "a = True\n",
        "b = False\n",
        "\n",
        "print(f\"a and b is {a and b}\")\n",
        "print(f\"a or b is {a or b}\")\n",
        "print(f\"not a is {not a}\")"
      ],
      "metadata": {
        "colab": {
          "base_uri": "https://localhost:8080/"
        },
        "id": "GYKznp9qwxw3",
        "outputId": "80855556-6988-4261-efaf-330d1eddd330"
      },
      "execution_count": 31,
      "outputs": [
        {
          "output_type": "stream",
          "name": "stdout",
          "text": [
            "a and b is False\n",
            "a or b is True\n",
            "not a is False\n"
          ]
        }
      ]
    },
    {
      "cell_type": "markdown",
      "source": [
        "## 8. Create a list and tuple in Python, and demonstrate how attempting to change an element works differently for each."
      ],
      "metadata": {
        "id": "rKZzdEgnyCzw"
      }
    },
    {
      "cell_type": "code",
      "source": [
        "l = [1,2,3,[\"Nikhil\", \"Jha\"]]\n",
        "t = (1,2,3,[\"Nikhil\", \"Jha\"])\n",
        "\n",
        "l[0] = 24\n",
        "print(l)\n",
        "t[0] = 24 # this will fail since tuple doesnot allow for item assignment."
      ],
      "metadata": {
        "colab": {
          "base_uri": "https://localhost:8080/",
          "height": 216
        },
        "id": "cuESRcAYx5pA",
        "outputId": "46e314e0-d382-4e2c-d4f2-7f781261d213"
      },
      "execution_count": 38,
      "outputs": [
        {
          "output_type": "stream",
          "name": "stdout",
          "text": [
            "[24, 2, 3, ['Nikhil', 'Jha']]\n"
          ]
        },
        {
          "output_type": "error",
          "ename": "TypeError",
          "evalue": "'tuple' object does not support item assignment",
          "traceback": [
            "\u001b[0;31m---------------------------------------------------------------------------\u001b[0m",
            "\u001b[0;31mTypeError\u001b[0m                                 Traceback (most recent call last)",
            "\u001b[0;32m<ipython-input-38-6df4af14b248>\u001b[0m in \u001b[0;36m<cell line: 0>\u001b[0;34m()\u001b[0m\n\u001b[1;32m      4\u001b[0m \u001b[0ml\u001b[0m\u001b[0;34m[\u001b[0m\u001b[0;36m0\u001b[0m\u001b[0;34m]\u001b[0m \u001b[0;34m=\u001b[0m \u001b[0;36m24\u001b[0m\u001b[0;34m\u001b[0m\u001b[0;34m\u001b[0m\u001b[0m\n\u001b[1;32m      5\u001b[0m \u001b[0mprint\u001b[0m\u001b[0;34m(\u001b[0m\u001b[0ml\u001b[0m\u001b[0;34m)\u001b[0m\u001b[0;34m\u001b[0m\u001b[0;34m\u001b[0m\u001b[0m\n\u001b[0;32m----> 6\u001b[0;31m \u001b[0mt\u001b[0m\u001b[0;34m[\u001b[0m\u001b[0;36m0\u001b[0m\u001b[0;34m]\u001b[0m \u001b[0;34m=\u001b[0m \u001b[0;36m24\u001b[0m \u001b[0;31m# this will fail since tuple doesnot allow for item assignment.\u001b[0m\u001b[0;34m\u001b[0m\u001b[0;34m\u001b[0m\u001b[0m\n\u001b[0m\u001b[1;32m      7\u001b[0m \u001b[0mprint\u001b[0m\u001b[0;34m(\u001b[0m\u001b[0mt\u001b[0m\u001b[0;34m)\u001b[0m\u001b[0;34m\u001b[0m\u001b[0;34m\u001b[0m\u001b[0m\n",
            "\u001b[0;31mTypeError\u001b[0m: 'tuple' object does not support item assignment"
          ]
        }
      ]
    },
    {
      "cell_type": "markdown",
      "source": [
        "## 9. Write a Python program to convert user input from string to integer, float, and boolean types."
      ],
      "metadata": {
        "id": "0X2pH8a5yyiM"
      }
    },
    {
      "cell_type": "code",
      "source": [
        "s = input(\"Enter a number: \")\n",
        "\n",
        "s_new = int(s)\n",
        "print(s_new)\n",
        "\n",
        "s_fnew = float(s)\n",
        "print(s_fnew)\n",
        "\n",
        "s_bnew = bool(s)\n",
        "print(s_bnew)"
      ],
      "metadata": {
        "colab": {
          "base_uri": "https://localhost:8080/"
        },
        "id": "KMI1pukyyLmu",
        "outputId": "92d2609b-bdaf-4372-c88b-5c944b395132"
      },
      "execution_count": 42,
      "outputs": [
        {
          "output_type": "stream",
          "name": "stdout",
          "text": [
            "Enter a number: 54\n",
            "54\n",
            "54.0\n",
            "True\n"
          ]
        }
      ]
    },
    {
      "cell_type": "markdown",
      "source": [
        "## 10. Write code to demonstrate type casting with list elements."
      ],
      "metadata": {
        "id": "VD0yQ1F613eB"
      }
    },
    {
      "cell_type": "code",
      "source": [
        "l = [1, \"2\", 3, \"41.5\", True, False]\n",
        "\n",
        "new_l = []\n",
        "for elm in l:\n",
        "    if isinstance(elm, int):\n",
        "        new_l.append(float(elm))\n",
        "    elif isinstance(elm, str):\n",
        "        try:\n",
        "            new_l.append(int(elm))\n",
        "        except ValueError:\n",
        "            try:\n",
        "                new_l.append(float(elm))\n",
        "            except ValueError:\n",
        "                new_l.append(str(elm))\n",
        "    elif isinstance(elm, bool):\n",
        "        new_l.append(int(elm))\n",
        "    else:\n",
        "        new_l.append(elm)\n",
        "\n",
        "print(\"Original list:  \", l)\n",
        "print(\"List after type casting to :   \", new_l)\n"
      ],
      "metadata": {
        "colab": {
          "base_uri": "https://localhost:8080/"
        },
        "id": "l2rF8Sg-y-oq",
        "outputId": "bdb4612e-113a-4f31-ce01-8ebdd176b385"
      },
      "execution_count": 46,
      "outputs": [
        {
          "output_type": "stream",
          "name": "stdout",
          "text": [
            "Original list:   [1, '2', 3, '41.5', True, False]\n",
            "List after type casting to :    [1.0, 2, 3.0, 41.5, 1.0, 0.0]\n"
          ]
        }
      ]
    },
    {
      "cell_type": "markdown",
      "source": [
        "## 11. Write a program that checks if a number is positive, negative, or zero."
      ],
      "metadata": {
        "id": "tIOGrhp63UZM"
      }
    },
    {
      "cell_type": "code",
      "source": [
        "num = float(input(\"Enter a number: \"))\n",
        "\n",
        "if num == 0:\n",
        "  print(f'{num} is Zero')\n",
        "elif num < 0:\n",
        "  print(f'{num} is Negative')\n",
        "else: print(f'{num} is Positive')"
      ],
      "metadata": {
        "colab": {
          "base_uri": "https://localhost:8080/"
        },
        "id": "qsuj2KAi24aJ",
        "outputId": "4cc63287-d8eb-413e-cfe4-d6e1acf441aa"
      },
      "execution_count": 51,
      "outputs": [
        {
          "output_type": "stream",
          "name": "stdout",
          "text": [
            "Enter a number: -0.9\n",
            "-0.9 is Negative\n"
          ]
        }
      ]
    },
    {
      "cell_type": "markdown",
      "source": [
        "## 12. Write a for loop to print numbers from 1 to 10."
      ],
      "metadata": {
        "id": "aNKQbIgJ38st"
      }
    },
    {
      "cell_type": "code",
      "source": [
        "i = 0\n",
        "\n",
        "while i <= 10:\n",
        "  print(i, end = ' ')\n",
        "  i += 1"
      ],
      "metadata": {
        "colab": {
          "base_uri": "https://localhost:8080/"
        },
        "id": "pGu7eNe_3wMQ",
        "outputId": "55a40949-73fe-4043-88ef-9434d1d05d61"
      },
      "execution_count": 53,
      "outputs": [
        {
          "output_type": "stream",
          "name": "stdout",
          "text": [
            "0 1 2 3 4 5 6 7 8 9 10 "
          ]
        }
      ]
    },
    {
      "cell_type": "markdown",
      "source": [
        "## 13. Write a Python program to find the sum of all even numbers between 1 and 50."
      ],
      "metadata": {
        "id": "f0WLXxAZ4PMW"
      }
    },
    {
      "cell_type": "code",
      "source": [
        "sum = 0\n",
        "\n",
        "for i in range(1,51):\n",
        "  if i % 2 == 0:\n",
        "    sum += i\n",
        "\n",
        "print(sum)"
      ],
      "metadata": {
        "colab": {
          "base_uri": "https://localhost:8080/"
        },
        "id": "h4iCY6bH4Hsv",
        "outputId": "ad919b21-2545-4ba7-d5fd-ec3287308fd0"
      },
      "execution_count": 67,
      "outputs": [
        {
          "output_type": "stream",
          "name": "stdout",
          "text": [
            "650\n"
          ]
        }
      ]
    },
    {
      "cell_type": "markdown",
      "source": [
        "## 14. Write a program to reverse a string using a while loop."
      ],
      "metadata": {
        "id": "_oYW3JE_5bbW"
      }
    },
    {
      "cell_type": "code",
      "source": [
        "s = \"Nikhil\"\n",
        "i = len(s) - 1\n",
        "s_rev = \"\"\n",
        "\n",
        "while i >= 0:\n",
        "  s_rev += s[i]\n",
        "  i -= 1\n",
        "\n",
        "print(s_rev)"
      ],
      "metadata": {
        "colab": {
          "base_uri": "https://localhost:8080/"
        },
        "id": "9qeUeT0G4nrp",
        "outputId": "b9eab4e5-aede-4648-bc14-2f1f0278d18a"
      },
      "execution_count": 81,
      "outputs": [
        {
          "output_type": "stream",
          "name": "stdout",
          "text": [
            "lihkiN\n"
          ]
        }
      ]
    },
    {
      "cell_type": "markdown",
      "source": [
        "## 15. Write a Python program to calculate the factorial of a number provided by the user using a while loop."
      ],
      "metadata": {
        "id": "5UNEBG1X7C-d"
      }
    },
    {
      "cell_type": "code",
      "source": [
        "num = int(input(\"Enter a number: \"))\n",
        "factorial = 1\n",
        "\n",
        "while num > 0:\n",
        "  factorial *= num\n",
        "  num -= 1\n",
        "\n",
        "print(factorial)"
      ],
      "metadata": {
        "colab": {
          "base_uri": "https://localhost:8080/"
        },
        "id": "FGoz5Zi153H9",
        "outputId": "34042681-1481-4e04-9df7-65a96ee0357c"
      },
      "execution_count": 85,
      "outputs": [
        {
          "output_type": "stream",
          "name": "stdout",
          "text": [
            "Enter a number: 10\n",
            "3628800\n"
          ]
        }
      ]
    },
    {
      "cell_type": "code",
      "source": [],
      "metadata": {
        "id": "BMNzWIg57Nwg"
      },
      "execution_count": null,
      "outputs": []
    }
  ]
}